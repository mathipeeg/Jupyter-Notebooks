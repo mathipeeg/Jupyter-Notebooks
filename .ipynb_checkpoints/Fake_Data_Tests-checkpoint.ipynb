{
 "cells": [
  {
   "cell_type": "code",
   "execution_count": 1,
   "metadata": {},
   "outputs": [],
   "source": [
    "import pandas as pd"
   ]
  },
  {
   "cell_type": "code",
   "execution_count": 5,
   "metadata": {},
   "outputs": [
    {
     "data": {
      "text/html": [
       "<div>\n",
       "<style scoped>\n",
       "    .dataframe tbody tr th:only-of-type {\n",
       "        vertical-align: middle;\n",
       "    }\n",
       "\n",
       "    .dataframe tbody tr th {\n",
       "        vertical-align: top;\n",
       "    }\n",
       "\n",
       "    .dataframe thead th {\n",
       "        text-align: right;\n",
       "    }\n",
       "</style>\n",
       "<table border=\"1\" class=\"dataframe\">\n",
       "  <thead>\n",
       "    <tr style=\"text-align: right;\">\n",
       "      <th></th>\n",
       "      <th>temperature</th>\n",
       "      <th>light</th>\n",
       "      <th>datetime</th>\n",
       "    </tr>\n",
       "  </thead>\n",
       "  <tbody>\n",
       "    <tr>\n",
       "      <th>0</th>\n",
       "      <td>21.94</td>\n",
       "      <td>99.96</td>\n",
       "      <td>03/05/2020 13:25:30</td>\n",
       "    </tr>\n",
       "    <tr>\n",
       "      <th>1</th>\n",
       "      <td>21.94</td>\n",
       "      <td>99.96</td>\n",
       "      <td>03/05/2020 13:25:30</td>\n",
       "    </tr>\n",
       "    <tr>\n",
       "      <th>2</th>\n",
       "      <td>21.94</td>\n",
       "      <td>99.96</td>\n",
       "      <td>03/05/2020 13:25:30</td>\n",
       "    </tr>\n",
       "    <tr>\n",
       "      <th>3</th>\n",
       "      <td>21.94</td>\n",
       "      <td>99.96</td>\n",
       "      <td>03/05/2020 13:25:30</td>\n",
       "    </tr>\n",
       "    <tr>\n",
       "      <th>4</th>\n",
       "      <td>21.94</td>\n",
       "      <td>99.96</td>\n",
       "      <td>03/05/2020 13:25:30</td>\n",
       "    </tr>\n",
       "    <tr>\n",
       "      <th>5</th>\n",
       "      <td>21.94</td>\n",
       "      <td>99.96</td>\n",
       "      <td>03/05/2020 13:25:30</td>\n",
       "    </tr>\n",
       "    <tr>\n",
       "      <th>6</th>\n",
       "      <td>21.94</td>\n",
       "      <td>99.96</td>\n",
       "      <td>03/05/2020 13:25:30</td>\n",
       "    </tr>\n",
       "    <tr>\n",
       "      <th>7</th>\n",
       "      <td>21.94</td>\n",
       "      <td>99.96</td>\n",
       "      <td>03/05/2020 13:25:30</td>\n",
       "    </tr>\n",
       "    <tr>\n",
       "      <th>8</th>\n",
       "      <td>21.94</td>\n",
       "      <td>99.96</td>\n",
       "      <td>03/05/2020 13:25:30</td>\n",
       "    </tr>\n",
       "    <tr>\n",
       "      <th>9</th>\n",
       "      <td>21.94</td>\n",
       "      <td>99.96</td>\n",
       "      <td>03/05/2020 13:25:30</td>\n",
       "    </tr>\n",
       "  </tbody>\n",
       "</table>\n",
       "</div>"
      ],
      "text/plain": [
       "   temperature  light             datetime\n",
       "0        21.94  99.96  03/05/2020 13:25:30\n",
       "1        21.94  99.96  03/05/2020 13:25:30\n",
       "2        21.94  99.96  03/05/2020 13:25:30\n",
       "3        21.94  99.96  03/05/2020 13:25:30\n",
       "4        21.94  99.96  03/05/2020 13:25:30\n",
       "5        21.94  99.96  03/05/2020 13:25:30\n",
       "6        21.94  99.96  03/05/2020 13:25:30\n",
       "7        21.94  99.96  03/05/2020 13:25:30\n",
       "8        21.94  99.96  03/05/2020 13:25:30\n",
       "9        21.94  99.96  03/05/2020 13:25:30"
      ]
     },
     "execution_count": 5,
     "metadata": {},
     "output_type": "execute_result"
    }
   ],
   "source": [
    "data = pd.read_csv('data.csv')\n",
    "df_data = data.apply(pd.to_numeric, errors='ignore')\n",
    "df_new_data = df_data\n",
    "df_new_data"
   ]
  }
 ],
 "metadata": {
  "kernelspec": {
   "display_name": "Python 3",
   "language": "python",
   "name": "python3"
  },
  "language_info": {
   "codemirror_mode": {
    "name": "ipython",
    "version": 3
   },
   "file_extension": ".py",
   "mimetype": "text/x-python",
   "name": "python",
   "nbconvert_exporter": "python",
   "pygments_lexer": "ipython3",
   "version": "3.7.7"
  }
 },
 "nbformat": 4,
 "nbformat_minor": 4
}
